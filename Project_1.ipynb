{
  "nbformat": 4,
  "nbformat_minor": 0,
  "metadata": {
    "colab": {
      "provenance": []
    },
    "kernelspec": {
      "name": "python3",
      "display_name": "Python 3"
    },
    "language_info": {
      "name": "python"
    }
  },
  "cells": [
    {
      "cell_type": "code",
      "execution_count": 4,
      "metadata": {
        "id": "XzAjWXZkmSsC",
        "colab": {
          "base_uri": "https://localhost:8080/"
        },
        "outputId": "fe472b38-5b3b-4edd-a950-8c71695a168c"
      },
      "outputs": [
        {
          "output_type": "stream",
          "name": "stdout",
          "text": [
            "Tensorflowversion: 2.12.0\n"
          ]
        }
      ],
      "source": [
        "import tensorflow as tf\n",
        "print(\"Tensorflowversion:\", tf.__version__)"
      ]
    },
    {
      "cell_type": "code",
      "source": [
        "import pandas as pd"
      ],
      "metadata": {
        "id": "VbEMKyPHIMaf"
      },
      "execution_count": 6,
      "outputs": []
    },
    {
      "cell_type": "code",
      "source": [
        "import numpy as np"
      ],
      "metadata": {
        "id": "UvlRQ5RtIPOC"
      },
      "execution_count": 7,
      "outputs": []
    },
    {
      "cell_type": "code",
      "source": [
        "import matplotlib.pyplot as plt"
      ],
      "metadata": {
        "id": "vjRjgDeaIQUz"
      },
      "execution_count": 8,
      "outputs": []
    },
    {
      "cell_type": "code",
      "source": [
        "mn=tf.keras.datasets.mnist"
      ],
      "metadata": {
        "id": "xvfQ2pUiISnu"
      },
      "execution_count": 13,
      "outputs": []
    },
    {
      "cell_type": "code",
      "source": [
        "(x_train, y_train), (x_test, y_test) = mn.load_data()\n",
        "x_train, x_test = x_train / 255.0, x_test / 255.0"
      ],
      "metadata": {
        "id": "UJzNTUEpJNo1",
        "colab": {
          "base_uri": "https://localhost:8080/"
        },
        "outputId": "1dcf7056-129b-47c5-caed-7653e4648f21"
      },
      "execution_count": 15,
      "outputs": [
        {
          "output_type": "stream",
          "name": "stdout",
          "text": [
            "Downloading data from https://storage.googleapis.com/tensorflow/tf-keras-datasets/mnist.npz\n",
            "11490434/11490434 [==============================] - 0s 0us/step\n"
          ]
        }
      ]
    },
    {
      "cell_type": "code",
      "source": [
        "model = tf.keras.models.Sequential([\n",
        "  tf.keras.layers.Flatten(input_shape=(28, 28)),\n",
        "  tf.keras.layers.Dense(128, activation='relu'),\n",
        "  tf.keras.layers.Dropout(0.2),\n",
        "  tf.keras.layers.Dense(10)\n",
        "])"
      ],
      "metadata": {
        "id": "lhrZ3LF-JOX1"
      },
      "execution_count": 16,
      "outputs": []
    },
    {
      "cell_type": "code",
      "source": [
        "predictions = model(x_train[:1]).numpy()\n",
        "predictions"
      ],
      "metadata": {
        "colab": {
          "base_uri": "https://localhost:8080/"
        },
        "id": "Q4TGE4yYJS-I",
        "outputId": "1a662254-6f12-41fe-8b5b-9f75a33ff992"
      },
      "execution_count": 17,
      "outputs": [
        {
          "output_type": "execute_result",
          "data": {
            "text/plain": [
              "array([[ 0.86574376, -0.23583359,  0.5248147 ,  0.44344738, -0.2131925 ,\n",
              "         0.50442004, -0.8100031 , -0.12436156, -0.44375026, -0.11563111]],\n",
              "      dtype=float32)"
            ]
          },
          "metadata": {},
          "execution_count": 17
        }
      ]
    },
    {
      "cell_type": "code",
      "source": [
        "tf.nn.softmax(predictions).numpy()"
      ],
      "metadata": {
        "id": "L5kEut-DJcSn",
        "colab": {
          "base_uri": "https://localhost:8080/"
        },
        "outputId": "de7cca4a-782b-48fe-b40a-7974a8cc72ed"
      },
      "execution_count": 18,
      "outputs": [
        {
          "output_type": "execute_result",
          "data": {
            "text/plain": [
              "array([[0.20246343, 0.067288  , 0.14397365, 0.13272281, 0.06882886,\n",
              "        0.14106709, 0.03789474, 0.07522277, 0.05465635, 0.07588238]],\n",
              "      dtype=float32)"
            ]
          },
          "metadata": {},
          "execution_count": 18
        }
      ]
    },
    {
      "cell_type": "code",
      "source": [
        "loss_fn = tf.keras.losses.SparseCategoricalCrossentropy(from_logits=True)"
      ],
      "metadata": {
        "id": "Siy51zjkIMmw"
      },
      "execution_count": 19,
      "outputs": []
    },
    {
      "cell_type": "code",
      "source": [
        "loss_fn(y_train[:1], predictions).numpy()"
      ],
      "metadata": {
        "id": "udqXdavCIMpr",
        "colab": {
          "base_uri": "https://localhost:8080/"
        },
        "outputId": "47c7b067-e5de-4b22-f698-1d61f7dcac75"
      },
      "execution_count": 20,
      "outputs": [
        {
          "output_type": "execute_result",
          "data": {
            "text/plain": [
              "1.9585197"
            ]
          },
          "metadata": {},
          "execution_count": 20
        }
      ]
    },
    {
      "cell_type": "code",
      "source": [
        "model.compile(optimizer='adam',\n",
        "              loss=loss_fn,\n",
        "              metrics=['accuracy'])"
      ],
      "metadata": {
        "id": "AgSyllBLIMtw"
      },
      "execution_count": 21,
      "outputs": []
    },
    {
      "cell_type": "code",
      "source": [
        "model.fit(x_train, y_train, epochs=8)"
      ],
      "metadata": {
        "id": "IGAEbh0YIMwq",
        "colab": {
          "base_uri": "https://localhost:8080/"
        },
        "outputId": "b4abf8ce-53c7-464e-8890-60a3da35f874"
      },
      "execution_count": 24,
      "outputs": [
        {
          "output_type": "stream",
          "name": "stdout",
          "text": [
            "Epoch 1/8\n",
            "1875/1875 [==============================] - 12s 6ms/step - loss: 0.0397 - accuracy: 0.9871\n",
            "Epoch 2/8\n",
            "1875/1875 [==============================] - 10s 5ms/step - loss: 0.0354 - accuracy: 0.9878\n",
            "Epoch 3/8\n",
            "1875/1875 [==============================] - 11s 6ms/step - loss: 0.0350 - accuracy: 0.9875\n",
            "Epoch 4/8\n",
            "1875/1875 [==============================] - 11s 6ms/step - loss: 0.0327 - accuracy: 0.9890\n",
            "Epoch 5/8\n",
            "1875/1875 [==============================] - 11s 6ms/step - loss: 0.0315 - accuracy: 0.9896\n",
            "Epoch 6/8\n",
            "1875/1875 [==============================] - 10s 5ms/step - loss: 0.0291 - accuracy: 0.9898\n",
            "Epoch 7/8\n",
            "1875/1875 [==============================] - 10s 6ms/step - loss: 0.0289 - accuracy: 0.9903\n",
            "Epoch 8/8\n",
            "1875/1875 [==============================] - 11s 6ms/step - loss: 0.0269 - accuracy: 0.9906\n"
          ]
        },
        {
          "output_type": "execute_result",
          "data": {
            "text/plain": [
              "<keras.callbacks.History at 0x7fe9d5cfa710>"
            ]
          },
          "metadata": {},
          "execution_count": 24
        }
      ]
    },
    {
      "cell_type": "code",
      "source": [
        "model.evaluate(x_test,  y_test, verbose=2)"
      ],
      "metadata": {
        "id": "S1tVyj4qIM0Z",
        "colab": {
          "base_uri": "https://localhost:8080/"
        },
        "outputId": "03254359-cf21-4f27-93c3-09d6d1bf2ac4"
      },
      "execution_count": 25,
      "outputs": [
        {
          "output_type": "stream",
          "name": "stdout",
          "text": [
            "313/313 - 2s - loss: 0.0755 - accuracy: 0.9798 - 2s/epoch - 6ms/step\n"
          ]
        },
        {
          "output_type": "execute_result",
          "data": {
            "text/plain": [
              "[0.07548680156469345, 0.9797999858856201]"
            ]
          },
          "metadata": {},
          "execution_count": 25
        }
      ]
    },
    {
      "cell_type": "code",
      "source": [
        "probability_model = tf.keras.Sequential([\n",
        "  model,\n",
        "  tf.keras.layers.Softmax()\n",
        "])"
      ],
      "metadata": {
        "id": "IcJwahSqi29t"
      },
      "execution_count": 26,
      "outputs": []
    },
    {
      "cell_type": "code",
      "source": [
        "probability_model(x_test[:5])"
      ],
      "metadata": {
        "colab": {
          "base_uri": "https://localhost:8080/"
        },
        "id": "VWiy-Wl_jCDu",
        "outputId": "20f22f09-006a-447e-dec5-579bf061ebcd"
      },
      "execution_count": 27,
      "outputs": [
        {
          "output_type": "execute_result",
          "data": {
            "text/plain": [
              "<tf.Tensor: shape=(5, 10), dtype=float32, numpy=\n",
              "array([[4.2466985e-10, 7.8751831e-14, 1.7269540e-11, 8.6042628e-06,\n",
              "        1.3659022e-17, 7.8942047e-11, 2.1856174e-21, 9.9999142e-01,\n",
              "        4.5532278e-10, 6.5676029e-09],\n",
              "       [9.5507534e-12, 2.4918232e-09, 1.0000000e+00, 1.3910941e-13,\n",
              "        3.5176116e-37, 2.3553300e-13, 6.4538749e-16, 3.8196911e-27,\n",
              "        6.8858008e-17, 4.6163008e-24],\n",
              "       [3.4216967e-12, 9.9999428e-01, 1.7945063e-06, 2.9055562e-09,\n",
              "        2.1871737e-07, 1.8144051e-09, 3.0565064e-09, 1.5914283e-06,\n",
              "        2.0869870e-06, 1.2582804e-11],\n",
              "       [9.9999905e-01, 8.4504970e-18, 8.4195898e-07, 2.4241451e-13,\n",
              "        2.0983940e-14, 5.2065068e-11, 1.3223868e-07, 4.3861918e-11,\n",
              "        8.8623873e-13, 2.6827948e-08],\n",
              "       [5.0515570e-09, 2.9439297e-20, 2.5794075e-10, 2.5909103e-14,\n",
              "        9.9992907e-01, 8.0600743e-12, 2.4771936e-09, 5.1263874e-07,\n",
              "        7.3586470e-11, 7.0399292e-05]], dtype=float32)>"
            ]
          },
          "metadata": {},
          "execution_count": 27
        }
      ]
    },
    {
      "cell_type": "code",
      "source": [],
      "metadata": {
        "id": "zxGuHjeVjEoV"
      },
      "execution_count": null,
      "outputs": []
    }
  ]
}